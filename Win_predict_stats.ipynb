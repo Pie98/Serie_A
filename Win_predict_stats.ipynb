{
 "cells": [
  {
   "cell_type": "code",
   "execution_count": 2,
   "metadata": {},
   "outputs": [
    {
     "name": "stdout",
     "output_type": "stream",
     "text": [
      "Reading file: I1 (0).csv\n",
      "Reading file: I1 (1).csv\n",
      "Reading file: I1 (10).csv\n",
      "Reading file: I1 (11).csv\n",
      "Reading file: I1 (12).csv\n",
      "Reading file: I1 (13).csv\n",
      "Reading file: I1 (14).csv\n",
      "Reading file: I1 (15).csv\n",
      "Reading file: I1 (16).csv\n",
      "Reading file: I1 (17).csv\n",
      "Reading file: I1 (18).csv\n",
      "Reading file: I1 (2).csv\n",
      "Reading file: I1 (3).csv\n",
      "Reading file: I1 (4).csv\n",
      "Reading file: I1 (5).csv\n",
      "Reading file: I1 (6).csv\n",
      "Reading file: I1 (7).csv\n",
      "Reading file: I1 (8).csv\n",
      "Reading file: I1 (9).csv\n",
      "preprocessing finished!\n"
     ]
    },
    {
     "ename": "TypeError",
     "evalue": "object of type 'int' has no len()",
     "output_type": "error",
     "traceback": [
      "\u001b[1;31m---------------------------------------------------------------------------\u001b[0m",
      "\u001b[1;31mTypeError\u001b[0m                                 Traceback (most recent call last)",
      "\u001b[1;32mc:\\Users\\Hp\\Serie_A\\Win_predict_stats.ipynb Cell 1\u001b[0m line \u001b[0;36m1\n\u001b[0;32m      <a href='vscode-notebook-cell:/c%3A/Users/Hp/Serie_A/Win_predict_stats.ipynb#W0sZmlsZQ%3D%3D?line=7'>8</a>\u001b[0m warnings\u001b[39m.\u001b[39mfilterwarnings(\u001b[39m\"\u001b[39m\u001b[39mignore\u001b[39m\u001b[39m\"\u001b[39m)\n\u001b[0;32m     <a href='vscode-notebook-cell:/c%3A/Users/Hp/Serie_A/Win_predict_stats.ipynb#W0sZmlsZQ%3D%3D?line=9'>10</a>\u001b[0m df_giornate \u001b[39m=\u001b[39m preprocess_match_days(\u001b[39mr\u001b[39m\u001b[39m\"\u001b[39m\u001b[39mc:\u001b[39m\u001b[39m\\\u001b[39m\u001b[39mUsers\u001b[39m\u001b[39m\\\u001b[39m\u001b[39mHp\u001b[39m\u001b[39m\\\u001b[39m\u001b[39mDocuments\u001b[39m\u001b[39m\\\u001b[39m\u001b[39mSerie_A\u001b[39m\u001b[39m\\\u001b[39m\u001b[39mcsv_serie_a\u001b[39m\u001b[39m\"\u001b[39m)\n\u001b[1;32m---> <a href='vscode-notebook-cell:/c%3A/Users/Hp/Serie_A/Win_predict_stats.ipynb#W0sZmlsZQ%3D%3D?line=10'>11</a>\u001b[0m df_Serie_A_5days \u001b[39m=\u001b[39m preprocess_cumulative_stats(dataframe\u001b[39m=\u001b[39;49mdf_giornate)\n\u001b[0;32m     <a href='vscode-notebook-cell:/c%3A/Users/Hp/Serie_A/Win_predict_stats.ipynb#W0sZmlsZQ%3D%3D?line=12'>13</a>\u001b[0m df_Serie_A_5days\u001b[39m.\u001b[39mhead()\n",
      "File \u001b[1;32mc:\\Users\\Hp\\Serie_A\\preprocess_days_stats.py:9\u001b[0m, in \u001b[0;36mpreprocess_cumulative_stats\u001b[1;34m(dataframe, directory, giorni_cumulativi)\u001b[0m\n\u001b[0;32m      7\u001b[0m \u001b[39mdef\u001b[39;00m \u001b[39mpreprocess_cumulative_stats\u001b[39m(dataframe \u001b[39m=\u001b[39m \u001b[39m0\u001b[39m, directory \u001b[39m=\u001b[39m \u001b[39m0\u001b[39m, giorni_cumulativi \u001b[39m=\u001b[39m \u001b[39m5\u001b[39m):\n\u001b[1;32m----> 9\u001b[0m     \u001b[39mif\u001b[39;00m (\u001b[39mlen\u001b[39;49m(directory) \u001b[39m!=\u001b[39m \u001b[39m0\u001b[39m):\n\u001b[0;32m     10\u001b[0m         df_giornate \u001b[39m=\u001b[39m pd\u001b[39m.\u001b[39mread_csv(directory, parse_dates\u001b[39m=\u001b[39m[\u001b[39m'\u001b[39m\u001b[39mdate\u001b[39m\u001b[39m'\u001b[39m], index_col\u001b[39m=\u001b[39m\u001b[39m'\u001b[39m\u001b[39mindex\u001b[39m\u001b[39m'\u001b[39m)\n\u001b[0;32m     11\u001b[0m     \u001b[39melif\u001b[39;00m (\u001b[39mlen\u001b[39m(dataframe) \u001b[39m!=\u001b[39m\u001b[39m0\u001b[39m):   \n",
      "\u001b[1;31mTypeError\u001b[0m: object of type 'int' has no len()"
     ]
    }
   ],
   "source": [
    "import pandas as pd \n",
    "import numpy as np\n",
    "import pandasql as ps\n",
    "import os\n",
    "from preprocess_days_stats import preprocess_cumulative_stats, preprocess_match_days\n",
    "import warnings\n",
    "# Ignora tutti i warning temporaneamente\n",
    "warnings.filterwarnings(\"ignore\")\n",
    "\n",
    "df_giornate = preprocess_match_days(r\"c:\\Users\\Hp\\Documents\\Serie_A\\csv_serie_a\")\n",
    "df_Serie_A_5days = preprocess_cumulative_stats(dataframe=df_giornate)\n",
    "\n",
    "df_Serie_A_5days.head()"
   ]
  }
 ],
 "metadata": {
  "kernelspec": {
   "display_name": "Python 3",
   "language": "python",
   "name": "python3"
  },
  "language_info": {
   "codemirror_mode": {
    "name": "ipython",
    "version": 3
   },
   "file_extension": ".py",
   "mimetype": "text/x-python",
   "name": "python",
   "nbconvert_exporter": "python",
   "pygments_lexer": "ipython3",
   "version": "3.11.3"
  }
 },
 "nbformat": 4,
 "nbformat_minor": 2
}
