{
 "cells": [
  {
   "cell_type": "code",
   "execution_count": 29,
   "metadata": {},
   "outputs": [
    {
     "name": "stdout",
     "output_type": "stream",
     "text": [
      "Cookie popup not found or encountered an error: Message: \n",
      "Stacktrace:\n",
      "\tGetHandleVerifier [0x00007FF7AD1C82B2+55298]\n",
      "\t(No symbol) [0x00007FF7AD135E02]\n",
      "\t(No symbol) [0x00007FF7ACFF05AB]\n",
      "\t(No symbol) [0x00007FF7AD03175C]\n",
      "\t(No symbol) [0x00007FF7AD0318DC]\n",
      "\t(No symbol) [0x00007FF7AD06CBC7]\n",
      "\t(No symbol) [0x00007FF7AD0520EF]\n",
      "\t(No symbol) [0x00007FF7AD06AAA4]\n",
      "\t(No symbol) [0x00007FF7AD051E83]\n",
      "\t(No symbol) [0x00007FF7AD02670A]\n",
      "\t(No symbol) [0x00007FF7AD027964]\n",
      "\tGetHandleVerifier [0x00007FF7AD540AAB+3694587]\n",
      "\tGetHandleVerifier [0x00007FF7AD59728E+4048862]\n",
      "\tGetHandleVerifier [0x00007FF7AD58F173+4015811]\n",
      "\tGetHandleVerifier [0x00007FF7AD2647D6+695590]\n",
      "\t(No symbol) [0x00007FF7AD140CE8]\n",
      "\t(No symbol) [0x00007FF7AD13CF34]\n",
      "\t(No symbol) [0x00007FF7AD13D062]\n",
      "\t(No symbol) [0x00007FF7AD12D3A3]\n",
      "\tBaseThreadInitThunk [0x00007FF9F64E257D+29]\n",
      "\tRtlUserThreadStart [0x00007FF9F75AAA58+40]\n",
      "\n",
      "HTML saved to last_odds.html\n"
     ]
    }
   ],
   "source": [
    "import time\n",
    "import pandas as pd\n",
    "import re\n",
    "import csv\n",
    "from selenium import webdriver\n",
    "from selenium.webdriver.chrome.options import Options\n",
    "from selenium.webdriver.common.by import By\n",
    "from selenium.webdriver.support.ui import WebDriverWait\n",
    "from selenium.webdriver.support import expected_conditions as EC\n",
    "import time\n",
    "\n",
    "def save_page_html(url, save_path):\n",
    "    chrome_options = Options()\n",
    "    chrome_options.add_argument(\"--incognito\")\n",
    "\n",
    "    driver = webdriver.Chrome(options=chrome_options)\n",
    "\n",
    "    driver.get(url)\n",
    "\n",
    "    # Handle cookies if there is a popup\n",
    "    try:\n",
    "        # Wait for the cookie popup to appear (adjust the timeout as needed)\n",
    "        cookie_popup = WebDriverWait(driver, 10).until(\n",
    "            EC.presence_of_element_located((By.ID, \"cookie-popup\"))\n",
    "        )\n",
    "\n",
    "        # Click the \"X\" button to close the cookie popup\n",
    "        close_button = cookie_popup.find_element(By.XPATH, \"//button[contains(@class, 'close-button')]\")\n",
    "        close_button.click()\n",
    "    except Exception as e:\n",
    "        print(f\"Cookie popup not found or encountered an error: {e}\")\n",
    "\n",
    "    # Wait for some time after closing the cookie popup (adjust as needed)\n",
    "    time.sleep(5)\n",
    "\n",
    "    # Get the HTML of the page\n",
    "    page_html = driver.page_source\n",
    "\n",
    "    # Save the HTML to a file\n",
    "    with open(save_path, \"w\", encoding=\"utf-8\") as file:\n",
    "        file.write(page_html)\n",
    "\n",
    "    print(f\"HTML saved to {save_path}\")\n",
    "\n",
    "    # Close the browser window\n",
    "    driver.quit()\n",
    "\n",
    "# Example usage\n",
    "website_url = \"https://www.**********.it/sport/CALCIO/SERIE%20A\"\n",
    "output_path = \"last_odds.html\"\n",
    "save_page_html(website_url, output_path)\n"
   ]
  },
  {
   "cell_type": "code",
   "execution_count": 30,
   "metadata": {},
   "outputs": [],
   "source": [
    "def filter_words(input_file, output_file, start_date, end_date):\n",
    "    with open(input_file, 'r', encoding='utf-8') as infile:\n",
    "        words = infile.read().split()\n",
    "\n",
    "    start_index = next((i for i, word in enumerate(words) if word == start_date), None)\n",
    "    end_index = next((i for i, word in enumerate(words) if word == end_date), None)\n",
    "\n",
    "    # Verifica se le parole '15/12' e '18/12' sono presenti nel file\n",
    "    if start_index is None or end_index is None:\n",
    "        raise ValueError(\"Le date di inizio o fine non sono presenti nel file.\")\n",
    "\n",
    "    # Filtra le parole tra '15/12' e '18/12' inclusi\n",
    "    filtered_words = words[start_index:end_index + 20644]\n",
    "\n",
    "    with open(output_file, 'w', encoding='utf-8') as outfile:\n",
    "        outfile.write(' '.join(filtered_words))\n",
    "\n",
    "# Esempio di utilizzo\n",
    "input_file_path = \"last_odds.html\"\n",
    "output_file_path = \"last_odds.html\"\n",
    "start_date_filter = '15/12'\n",
    "end_date_filter = '18/12'\n",
    "\n",
    "filter_words(input_file_path, output_file_path, start_date_filter, end_date_filter)\n"
   ]
  },
  {
   "cell_type": "code",
   "execution_count": 31,
   "metadata": {},
   "outputs": [
    {
     "name": "stdout",
     "output_type": "stream",
     "text": [
      "['1.67', '2.10', '2.35', '1.55', '1.80', '3.30', '5.00']\n",
      "['2.00', '1.73', '1.92', '1.77', '3.55', '3.30', '2.10']\n",
      "['1.85', '1.87', '1.50', '2.40', '9.00', '5.50', '1.30']\n",
      "['1.80', '1.90', '1.90', '1.80', '5.75', '3.90', '1.60']\n",
      "['1.95', '1.77', '1.70', '2.00', '5.75', '4.25', '1.55']\n",
      "['1.87', '1.85', '1.70', '2.05', '6.75', '4.50', '1.45']\n",
      "['2.35', '1.53', '1.65', '2.10', '3.05', '3.50', '2.25']\n",
      "['1.73', '2.00', '2.40', '1.50', '3.25', '3.00', '2.40']\n",
      "['1.90', '1.80', '1.92', '1.80', '1.75', '3.70', '4.75']\n",
      "['1.77', '1.93', '1.55', '2.30', '9.00', '5.50', '1.30']\n"
     ]
    }
   ],
   "source": [
    "def find_numbers_in_file(file_path):\n",
    "    with open(file_path, 'r', encoding='utf-8') as file:\n",
    "        content = file.read()\n",
    "\n",
    "    # Definisci il pattern regex per trovare le stringhe '\\d\\d,\\d\\d' o '\\d,\\d\\d'\n",
    "    pattern = re.compile(r'\\b\\d{1,2},\\d{1,2}\\b')\n",
    "\n",
    "    # Trova tutte le corrispondenze nel testo\n",
    "    matches = pattern.findall(content)\n",
    "\n",
    "    return matches\n",
    "\n",
    "# Esempio di utilizzo\n",
    "file_path = \"last_odds.html\"\n",
    "result = find_numbers_in_file(file_path)\n",
    "\n",
    "if len(result) != 70:\n",
    "    raise ValueError(' WARNING, NOT 10 MATCHES SELECTED ')\n",
    "\n",
    "with open('last_odds.csv', mode='w', newline='', encoding='utf-8',) as file:\n",
    "    csv_writer = csv.writer(file)\n",
    "    csv_writer.writerow(['1','x','2'])\n",
    "    reset=0\n",
    "    temp=[]\n",
    "    for numero in result:\n",
    "        temp.append(numero.replace(',', '.'))\n",
    "        reset=reset+1\n",
    "        if (reset % 7 ==0):\n",
    "            csv_writer.writerow(temp[::-1][:3])\n",
    "            print(temp)\n",
    "            temp=[]\n",
    "            reset=0\n"
   ]
  },
  {
   "cell_type": "code",
   "execution_count": 32,
   "metadata": {},
   "outputs": [],
   "source": [
    "column_types = {'1': float, 'x': float, '2': float}\n",
    "last_odds = pd.read_csv(r'last_odds.csv', dtype=column_types)\n",
    "min_odds = pd.read_csv(r'min_odds.csv', dtype=column_types)\n",
    "\n",
    "# Creazione del terzo DataFrame contenente il minimo dei valori\n",
    "df_min = pd.DataFrame()\n",
    "\n",
    "# Itera attraverso le colonne e le righe per ottenere i minimi\n",
    "for col in last_odds.columns:\n",
    "    df_min[col] = [min(a, b) for a, b in zip(min_odds[col], last_odds[col])]\n",
    "\n",
    "df_min.to_csv('min_odds.csv',index=False)"
   ]
  },
  {
   "cell_type": "code",
   "execution_count": 33,
   "metadata": {},
   "outputs": [
    {
     "data": {
      "text/plain": [
       "(      1     x     2\n",
       " 0  5.00  3.30  1.80\n",
       " 1  2.10  3.30  3.55\n",
       " 2  1.30  5.50  9.00\n",
       " 3  1.60  3.90  5.75\n",
       " 4  1.55  4.25  5.75\n",
       " 5  1.45  4.50  6.75\n",
       " 6  2.25  3.50  3.05\n",
       " 7  2.40  3.00  3.25\n",
       " 8  4.75  3.70  1.75\n",
       " 9  1.30  5.50  9.00,\n",
       "       1     x     2\n",
       " 0  5.00  3.30  1.80\n",
       " 1  2.10  3.30  3.55\n",
       " 2  1.30  5.50  9.00\n",
       " 3  1.60  3.90  5.75\n",
       " 4  1.55  4.25  5.75\n",
       " 5  1.45  4.50  6.75\n",
       " 6  2.25  3.50  3.05\n",
       " 7  2.40  3.00  3.25\n",
       " 8  4.75  3.70  1.75\n",
       " 9  1.30  5.50  9.00)"
      ]
     },
     "execution_count": 33,
     "metadata": {},
     "output_type": "execute_result"
    }
   ],
   "source": [
    "last_odds,  min_odds"
   ]
  }
 ],
 "metadata": {
  "kernelspec": {
   "display_name": "Python 3",
   "language": "python",
   "name": "python3"
  },
  "language_info": {
   "codemirror_mode": {
    "name": "ipython",
    "version": 3
   },
   "file_extension": ".py",
   "mimetype": "text/x-python",
   "name": "python",
   "nbconvert_exporter": "python",
   "pygments_lexer": "ipython3",
   "version": "3.11.3"
  }
 },
 "nbformat": 4,
 "nbformat_minor": 2
}
