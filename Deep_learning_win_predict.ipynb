{
 "cells": [
  {
   "cell_type": "code",
   "execution_count": 2,
   "metadata": {},
   "outputs": [
    {
     "name": "stdout",
     "output_type": "stream",
     "text": [
      "Reading file: I1 (0).csv\n",
      "Reading file: I1 (1).csv\n",
      "Reading file: I1 (10).csv\n",
      "Reading file: I1 (11).csv\n",
      "Reading file: I1 (12).csv\n",
      "Reading file: I1 (13).csv\n",
      "Reading file: I1 (14).csv\n",
      "Reading file: I1 (15).csv\n",
      "Reading file: I1 (16).csv\n",
      "Reading file: I1 (17).csv\n",
      "Reading file: I1 (18).csv\n",
      "Reading file: I1 (2).csv\n",
      "Reading file: I1 (3).csv\n",
      "Reading file: I1 (4).csv\n",
      "Reading file: I1 (5).csv\n",
      "Reading file: I1 (6).csv\n",
      "Reading file: I1 (7).csv\n",
      "Reading file: I1 (8).csv\n",
      "Reading file: I1 (9).csv\n",
      "preprocessing finished!\n"
     ]
    }
   ],
   "source": [
    "import pandas as pd \n",
    "import numpy as np\n",
    "import pandasql as ps\n",
    "import os\n",
    "from preprocess_days_stats import preprocess_cumulative_stats, preprocess_match_days\n",
    "import warnings\n",
    "# Ignora tutti i warning temporaneamente\n",
    "warnings.filterwarnings(\"ignore\")\n",
    "\n",
    "\n",
    "df_giornate = preprocess_match_days(r\"c:\\Users\\Hp\\Documents\\Serie_A_dump\\csv_serie_a\")"
   ]
  },
  {
   "cell_type": "code",
   "execution_count": 42,
   "metadata": {},
   "outputs": [],
   "source": [
    "import csv\n",
    "\n",
    "# Nome del file CSV\n",
    "nome_file = \"results/baseline_KNN.csv\"\n",
    "\n",
    "# Apri il file CSV in modalità scrittura\n",
    "with open(nome_file, mode='w', newline='') as file_csv:\n",
    "    # Creazione dell'oggetto writer\n",
    "    writer = csv.writer(file_csv)\n",
    "\n",
    "    # Scrivi l'intestazione nel file CSV\n",
    "    writer.writerow(['giorni_cumulativi', 'vanumero_colonne', 'vicini', 'val_accuracy', 'train_accuracy'])"
   ]
  },
  {
   "cell_type": "markdown",
   "metadata": {},
   "source": [
    "# KNN baseline"
   ]
  },
  {
   "cell_type": "code",
   "execution_count": 43,
   "metadata": {},
   "outputs": [
    {
     "name": "stdout",
     "output_type": "stream",
     "text": [
      "preprocess finished\n",
      "utilizzando tutte le features\n",
      "utilizzando meno features\n",
      "utilizzando poche features\n",
      "preprocess finished\n",
      "utilizzando tutte le features\n",
      "utilizzando meno features\n",
      "utilizzando poche features\n",
      "preprocess finished\n",
      "utilizzando tutte le features\n",
      "utilizzando meno features\n",
      "utilizzando poche features\n",
      "preprocess finished\n",
      "utilizzando tutte le features\n",
      "utilizzando meno features\n",
      "utilizzando poche features\n",
      "preprocess finished\n",
      "utilizzando tutte le features\n",
      "utilizzando meno features\n",
      "utilizzando poche features\n",
      "preprocess finished\n",
      "utilizzando tutte le features\n",
      "utilizzando meno features\n",
      "utilizzando poche features\n",
      "preprocess finished\n",
      "utilizzando tutte le features\n",
      "utilizzando meno features\n",
      "utilizzando poche features\n",
      "preprocess finished\n",
      "utilizzando tutte le features\n",
      "utilizzando meno features\n",
      "utilizzando poche features\n",
      "preprocess finished\n",
      "utilizzando tutte le features\n",
      "utilizzando meno features\n",
      "utilizzando poche features\n",
      "preprocess finished\n",
      "utilizzando tutte le features\n",
      "utilizzando meno features\n",
      "utilizzando poche features\n"
     ]
    }
   ],
   "source": [
    "from sklearn.neighbors import KNeighborsClassifier\n",
    "from sklearn.metrics import classification_report,accuracy_score\n",
    "from preprocess_features import preprocess_columns\n",
    "\n",
    "for giorni_cumulativi in range(10):\n",
    "    giorni_cumulativi = giorni_cumulativi+1\n",
    "    df_Serie_A_days, stats_teams_serie_A = preprocess_cumulative_stats(dataframe=df_giornate, giorni_cumulativi=giorni_cumulativi)\n",
    "    for numero_colonne in ['all','less','few']:    \n",
    "        X_train_norm, X_valid_norm, X_test_norm, Train_labels_encoded, Valid_labels_encoded, Test_labels_encoded = preprocess_columns(\n",
    "            df_Serie_A_days,numero_colonne,giorni_cumulativi)\n",
    "\n",
    "        best_accuracy=0\n",
    "        for vicini in range(3,40): #prendiamo diversi numeri di vicini possibili\n",
    "            knn_model = KNeighborsClassifier(n_neighbors=3*vicini) #addestriamo il modello con questo numero di vicini \n",
    "            knn_model.fit(X_train_norm, Train_labels_encoded) \n",
    "            y_valid = knn_model.predict(X_valid_norm)\n",
    "            val_accuracy = round(accuracy_score(Valid_labels_encoded, y_valid),2)\n",
    "            y_train = knn_model.predict(X_train_norm)\n",
    "            train_accuracy = round(accuracy_score(Train_labels_encoded, y_train),2)\n",
    "\n",
    "            if val_accuracy > best_accuracy:\n",
    "                best_accuracy = val_accuracy\n",
    "                \n",
    "                # Scrivi i dati nel file CSV\n",
    "                with open(nome_file, mode='a', newline='') as file_csv:\n",
    "                    writer = csv.writer(file_csv)\n",
    "                    writer.writerow([giorni_cumulativi, numero_colonne, vicini*3, val_accuracy, train_accuracy])            "
   ]
  },
  {
   "cell_type": "code",
   "execution_count": 45,
   "metadata": {},
   "outputs": [
    {
     "data": {
      "text/html": [
       "<div>\n",
       "<style scoped>\n",
       "    .dataframe tbody tr th:only-of-type {\n",
       "        vertical-align: middle;\n",
       "    }\n",
       "\n",
       "    .dataframe tbody tr th {\n",
       "        vertical-align: top;\n",
       "    }\n",
       "\n",
       "    .dataframe thead th {\n",
       "        text-align: right;\n",
       "    }\n",
       "</style>\n",
       "<table border=\"1\" class=\"dataframe\">\n",
       "  <thead>\n",
       "    <tr style=\"text-align: right;\">\n",
       "      <th></th>\n",
       "      <th>giorni_cumulativi</th>\n",
       "      <th>vanumero_colonne</th>\n",
       "      <th>vicini</th>\n",
       "      <th>val_accuracy</th>\n",
       "      <th>train_accuracy</th>\n",
       "    </tr>\n",
       "  </thead>\n",
       "  <tbody>\n",
       "    <tr>\n",
       "      <th>14</th>\n",
       "      <td>1</td>\n",
       "      <td>few</td>\n",
       "      <td>72</td>\n",
       "      <td>0.53</td>\n",
       "      <td>0.51</td>\n",
       "    </tr>\n",
       "    <tr>\n",
       "      <th>13</th>\n",
       "      <td>1</td>\n",
       "      <td>few</td>\n",
       "      <td>63</td>\n",
       "      <td>0.52</td>\n",
       "      <td>0.52</td>\n",
       "    </tr>\n",
       "    <tr>\n",
       "      <th>89</th>\n",
       "      <td>6</td>\n",
       "      <td>all</td>\n",
       "      <td>117</td>\n",
       "      <td>0.52</td>\n",
       "      <td>0.50</td>\n",
       "    </tr>\n",
       "    <tr>\n",
       "      <th>63</th>\n",
       "      <td>4</td>\n",
       "      <td>less</td>\n",
       "      <td>117</td>\n",
       "      <td>0.51</td>\n",
       "      <td>0.51</td>\n",
       "    </tr>\n",
       "    <tr>\n",
       "      <th>34</th>\n",
       "      <td>3</td>\n",
       "      <td>all</td>\n",
       "      <td>45</td>\n",
       "      <td>0.51</td>\n",
       "      <td>0.51</td>\n",
       "    </tr>\n",
       "    <tr>\n",
       "      <th>149</th>\n",
       "      <td>9</td>\n",
       "      <td>less</td>\n",
       "      <td>105</td>\n",
       "      <td>0.51</td>\n",
       "      <td>0.50</td>\n",
       "    </tr>\n",
       "    <tr>\n",
       "      <th>43</th>\n",
       "      <td>3</td>\n",
       "      <td>less</td>\n",
       "      <td>57</td>\n",
       "      <td>0.51</td>\n",
       "      <td>0.51</td>\n",
       "    </tr>\n",
       "    <tr>\n",
       "      <th>124</th>\n",
       "      <td>7</td>\n",
       "      <td>few</td>\n",
       "      <td>69</td>\n",
       "      <td>0.51</td>\n",
       "      <td>0.51</td>\n",
       "    </tr>\n",
       "    <tr>\n",
       "      <th>49</th>\n",
       "      <td>3</td>\n",
       "      <td>few</td>\n",
       "      <td>63</td>\n",
       "      <td>0.51</td>\n",
       "      <td>0.51</td>\n",
       "    </tr>\n",
       "    <tr>\n",
       "      <th>97</th>\n",
       "      <td>6</td>\n",
       "      <td>less</td>\n",
       "      <td>63</td>\n",
       "      <td>0.51</td>\n",
       "      <td>0.51</td>\n",
       "    </tr>\n",
       "  </tbody>\n",
       "</table>\n",
       "</div>"
      ],
      "text/plain": [
       "     giorni_cumulativi vanumero_colonne  vicini  val_accuracy  train_accuracy\n",
       "14                   1              few      72          0.53            0.51\n",
       "13                   1              few      63          0.52            0.52\n",
       "89                   6              all     117          0.52            0.50\n",
       "63                   4             less     117          0.51            0.51\n",
       "34                   3              all      45          0.51            0.51\n",
       "149                  9             less     105          0.51            0.50\n",
       "43                   3             less      57          0.51            0.51\n",
       "124                  7              few      69          0.51            0.51\n",
       "49                   3              few      63          0.51            0.51\n",
       "97                   6             less      63          0.51            0.51"
      ]
     },
     "execution_count": 45,
     "metadata": {},
     "output_type": "execute_result"
    }
   ],
   "source": [
    "baseline_KNN_df = pd.read_csv(r'baseline_KNN.csv').sort_values(['val_accuracy'],ascending=False)\n",
    "baseline_KNN_df.head(10)"
   ]
  },
  {
   "cell_type": "code",
   "execution_count": 46,
   "metadata": {},
   "outputs": [
    {
     "data": {
      "text/html": [
       "<div>\n",
       "<style scoped>\n",
       "    .dataframe tbody tr th:only-of-type {\n",
       "        vertical-align: middle;\n",
       "    }\n",
       "\n",
       "    .dataframe tbody tr th {\n",
       "        vertical-align: top;\n",
       "    }\n",
       "\n",
       "    .dataframe thead th {\n",
       "        text-align: right;\n",
       "    }\n",
       "</style>\n",
       "<table border=\"1\" class=\"dataframe\">\n",
       "  <thead>\n",
       "    <tr style=\"text-align: right;\">\n",
       "      <th></th>\n",
       "      <th>giorni_cumulativi</th>\n",
       "      <th>vanumero_colonne</th>\n",
       "      <th>vicini</th>\n",
       "      <th>val_accuracy</th>\n",
       "      <th>train_accuracy</th>\n",
       "    </tr>\n",
       "  </thead>\n",
       "  <tbody>\n",
       "    <tr>\n",
       "      <th>118</th>\n",
       "      <td>7</td>\n",
       "      <td>few</td>\n",
       "      <td>9</td>\n",
       "      <td>0.39</td>\n",
       "      <td>0.58</td>\n",
       "    </tr>\n",
       "    <tr>\n",
       "      <th>0</th>\n",
       "      <td>1</td>\n",
       "      <td>all</td>\n",
       "      <td>9</td>\n",
       "      <td>0.46</td>\n",
       "      <td>0.58</td>\n",
       "    </tr>\n",
       "    <tr>\n",
       "      <th>150</th>\n",
       "      <td>9</td>\n",
       "      <td>few</td>\n",
       "      <td>9</td>\n",
       "      <td>0.44</td>\n",
       "      <td>0.58</td>\n",
       "    </tr>\n",
       "    <tr>\n",
       "      <th>44</th>\n",
       "      <td>3</td>\n",
       "      <td>few</td>\n",
       "      <td>9</td>\n",
       "      <td>0.44</td>\n",
       "      <td>0.58</td>\n",
       "    </tr>\n",
       "    <tr>\n",
       "      <th>10</th>\n",
       "      <td>1</td>\n",
       "      <td>few</td>\n",
       "      <td>9</td>\n",
       "      <td>0.48</td>\n",
       "      <td>0.58</td>\n",
       "    </tr>\n",
       "    <tr>\n",
       "      <th>24</th>\n",
       "      <td>2</td>\n",
       "      <td>few</td>\n",
       "      <td>9</td>\n",
       "      <td>0.45</td>\n",
       "      <td>0.57</td>\n",
       "    </tr>\n",
       "    <tr>\n",
       "      <th>35</th>\n",
       "      <td>3</td>\n",
       "      <td>less</td>\n",
       "      <td>9</td>\n",
       "      <td>0.41</td>\n",
       "      <td>0.57</td>\n",
       "    </tr>\n",
       "    <tr>\n",
       "      <th>105</th>\n",
       "      <td>7</td>\n",
       "      <td>all</td>\n",
       "      <td>9</td>\n",
       "      <td>0.39</td>\n",
       "      <td>0.57</td>\n",
       "    </tr>\n",
       "    <tr>\n",
       "      <th>19</th>\n",
       "      <td>2</td>\n",
       "      <td>less</td>\n",
       "      <td>9</td>\n",
       "      <td>0.44</td>\n",
       "      <td>0.57</td>\n",
       "    </tr>\n",
       "    <tr>\n",
       "      <th>15</th>\n",
       "      <td>2</td>\n",
       "      <td>all</td>\n",
       "      <td>9</td>\n",
       "      <td>0.46</td>\n",
       "      <td>0.57</td>\n",
       "    </tr>\n",
       "  </tbody>\n",
       "</table>\n",
       "</div>"
      ],
      "text/plain": [
       "     giorni_cumulativi vanumero_colonne  vicini  val_accuracy  train_accuracy\n",
       "118                  7              few       9          0.39            0.58\n",
       "0                    1              all       9          0.46            0.58\n",
       "150                  9              few       9          0.44            0.58\n",
       "44                   3              few       9          0.44            0.58\n",
       "10                   1              few       9          0.48            0.58\n",
       "24                   2              few       9          0.45            0.57\n",
       "35                   3             less       9          0.41            0.57\n",
       "105                  7              all       9          0.39            0.57\n",
       "19                   2             less       9          0.44            0.57\n",
       "15                   2              all       9          0.46            0.57"
      ]
     },
     "execution_count": 46,
     "metadata": {},
     "output_type": "execute_result"
    }
   ],
   "source": [
    "baseline_KNN_df.sort_values(['train_accuracy'],ascending=False).head(10)"
   ]
  },
  {
   "cell_type": "markdown",
   "metadata": {},
   "source": [
    "# Dense neural network"
   ]
  },
  {
   "cell_type": "code",
   "execution_count": 13,
   "metadata": {},
   "outputs": [],
   "source": [
    "import tensorflow as tf \n",
    "\n",
    "# Create a function to implement a ModelCheckpoint callback with a specific filename \n",
    "def create_model_checkpoint(model_name, save_path=\"model_experiments\"):\n",
    "  return tf.keras.callbacks.ModelCheckpoint(filepath=os.path.join(save_path, model_name), # create filepath to save model\n",
    "                                            verbose=0, # only output a limited amount of text\n",
    "                                            monitor='val_accuracy',\n",
    "                                            save_best_only=True) # save only the best model to file"
   ]
  },
  {
   "cell_type": "markdown",
   "metadata": {},
   "source": [
    "## Iniziamo con poche features e 3 giorni cumulativi"
   ]
  },
  {
   "cell_type": "code",
   "execution_count": 3,
   "metadata": {},
   "outputs": [
    {
     "name": "stdout",
     "output_type": "stream",
     "text": [
      "preprocess finished\n",
      "utilizzando poche features\n"
     ]
    }
   ],
   "source": [
    "from sklearn.neighbors import KNeighborsClassifier\n",
    "from sklearn.metrics import classification_report,accuracy_score\n",
    "from preprocess_features import preprocess_columns\n",
    "\n",
    "giorni_cumulativi=3\n",
    "numero_colonne='few'\n",
    "df_Serie_A_days, stats_teams_serie_A = preprocess_cumulative_stats(dataframe=df_giornate, giorni_cumulativi=giorni_cumulativi)\n",
    "\n",
    "X_train_norm, X_valid_norm, X_test_norm, Train_labels_encoded, Valid_labels_encoded, Test_labels_encoded = preprocess_columns(\n",
    "            df_Serie_A_days,numero_colonne,giorni_cumulativi)"
   ]
  },
  {
   "cell_type": "code",
   "execution_count": 14,
   "metadata": {},
   "outputs": [
    {
     "name": "stdout",
     "output_type": "stream",
     "text": [
      "Epoch 1/12\n",
      "183/185 [============================>.] - ETA: 0s - loss: 1.0508 - accuracy: 0.4664"
     ]
    },
    {
     "name": "stderr",
     "output_type": "stream",
     "text": [
      "WARNING:absl:Found untraced functions such as _update_step_xla while saving (showing 1 of 1). These functions will not be directly callable after loading.\n"
     ]
    },
    {
     "name": "stdout",
     "output_type": "stream",
     "text": [
      "INFO:tensorflow:Assets written to: model_experiments\\Dense_model_best\\assets\n"
     ]
    },
    {
     "name": "stderr",
     "output_type": "stream",
     "text": [
      "INFO:tensorflow:Assets written to: model_experiments\\Dense_model_best\\assets\n"
     ]
    },
    {
     "name": "stdout",
     "output_type": "stream",
     "text": [
      "185/185 [==============================] - 2s 8ms/step - loss: 1.0501 - accuracy: 0.4670 - val_loss: 1.0054 - val_accuracy: 0.5130\n",
      "Epoch 2/12\n",
      "183/185 [============================>.] - ETA: 0s - loss: 1.0046 - accuracy: 0.5162"
     ]
    },
    {
     "name": "stderr",
     "output_type": "stream",
     "text": [
      "WARNING:absl:Found untraced functions such as _update_step_xla while saving (showing 1 of 1). These functions will not be directly callable after loading.\n"
     ]
    },
    {
     "name": "stdout",
     "output_type": "stream",
     "text": [
      "INFO:tensorflow:Assets written to: model_experiments\\Dense_model_best\\assets\n"
     ]
    },
    {
     "name": "stderr",
     "output_type": "stream",
     "text": [
      "INFO:tensorflow:Assets written to: model_experiments\\Dense_model_best\\assets\n"
     ]
    },
    {
     "name": "stdout",
     "output_type": "stream",
     "text": [
      "185/185 [==============================] - 1s 6ms/step - loss: 1.0042 - accuracy: 0.5161 - val_loss: 0.9871 - val_accuracy: 0.5246\n",
      "Epoch 3/12\n",
      "177/185 [===========================>..] - ETA: 0s - loss: 0.9789 - accuracy: 0.5297"
     ]
    },
    {
     "name": "stderr",
     "output_type": "stream",
     "text": [
      "WARNING:absl:Found untraced functions such as _update_step_xla while saving (showing 1 of 1). These functions will not be directly callable after loading.\n"
     ]
    },
    {
     "name": "stdout",
     "output_type": "stream",
     "text": [
      "INFO:tensorflow:Assets written to: model_experiments\\Dense_model_best\\assets\n"
     ]
    },
    {
     "name": "stderr",
     "output_type": "stream",
     "text": [
      "INFO:tensorflow:Assets written to: model_experiments\\Dense_model_best\\assets\n"
     ]
    },
    {
     "name": "stdout",
     "output_type": "stream",
     "text": [
      "185/185 [==============================] - 1s 6ms/step - loss: 0.9806 - accuracy: 0.5298 - val_loss: 0.9781 - val_accuracy: 0.5275\n",
      "Epoch 4/12\n",
      "171/185 [==========================>...] - ETA: 0s - loss: 0.9627 - accuracy: 0.5393"
     ]
    },
    {
     "name": "stderr",
     "output_type": "stream",
     "text": [
      "WARNING:absl:Found untraced functions such as _update_step_xla while saving (showing 1 of 1). These functions will not be directly callable after loading.\n"
     ]
    },
    {
     "name": "stdout",
     "output_type": "stream",
     "text": [
      "INFO:tensorflow:Assets written to: model_experiments\\Dense_model_best\\assets\n"
     ]
    },
    {
     "name": "stderr",
     "output_type": "stream",
     "text": [
      "INFO:tensorflow:Assets written to: model_experiments\\Dense_model_best\\assets\n"
     ]
    },
    {
     "name": "stdout",
     "output_type": "stream",
     "text": [
      "185/185 [==============================] - 1s 6ms/step - loss: 0.9647 - accuracy: 0.5393 - val_loss: 0.9832 - val_accuracy: 0.5333\n",
      "Epoch 5/12\n",
      "185/185 [==============================] - 0s 2ms/step - loss: 0.9536 - accuracy: 0.5474 - val_loss: 0.9808 - val_accuracy: 0.5304\n",
      "Epoch 6/12\n",
      "185/185 [==============================] - 0s 3ms/step - loss: 0.9443 - accuracy: 0.5580 - val_loss: 0.9923 - val_accuracy: 0.5275\n",
      "Epoch 7/12\n",
      "185/185 [==============================] - 0s 2ms/step - loss: 0.9319 - accuracy: 0.5643 - val_loss: 0.9818 - val_accuracy: 0.5275\n",
      "Epoch 8/12\n",
      "171/185 [==========================>...] - ETA: 0s - loss: 0.9195 - accuracy: 0.5691"
     ]
    },
    {
     "name": "stderr",
     "output_type": "stream",
     "text": [
      "WARNING:absl:Found untraced functions such as _update_step_xla while saving (showing 1 of 1). These functions will not be directly callable after loading.\n"
     ]
    },
    {
     "name": "stdout",
     "output_type": "stream",
     "text": [
      "INFO:tensorflow:Assets written to: model_experiments\\Dense_model_best\\assets\n"
     ]
    },
    {
     "name": "stderr",
     "output_type": "stream",
     "text": [
      "INFO:tensorflow:Assets written to: model_experiments\\Dense_model_best\\assets\n"
     ]
    },
    {
     "name": "stdout",
     "output_type": "stream",
     "text": [
      "185/185 [==============================] - 1s 6ms/step - loss: 0.9206 - accuracy: 0.5685 - val_loss: 0.9841 - val_accuracy: 0.5391\n",
      "Epoch 9/12\n",
      "173/185 [===========================>..] - ETA: 0s - loss: 0.9102 - accuracy: 0.5733"
     ]
    },
    {
     "name": "stderr",
     "output_type": "stream",
     "text": [
      "WARNING:absl:Found untraced functions such as _update_step_xla while saving (showing 1 of 1). These functions will not be directly callable after loading.\n"
     ]
    },
    {
     "name": "stdout",
     "output_type": "stream",
     "text": [
      "INFO:tensorflow:Assets written to: model_experiments\\Dense_model_best\\assets\n"
     ]
    },
    {
     "name": "stderr",
     "output_type": "stream",
     "text": [
      "INFO:tensorflow:Assets written to: model_experiments\\Dense_model_best\\assets\n"
     ]
    },
    {
     "name": "stdout",
     "output_type": "stream",
     "text": [
      "185/185 [==============================] - 1s 6ms/step - loss: 0.9101 - accuracy: 0.5764 - val_loss: 0.9904 - val_accuracy: 0.5652\n",
      "Epoch 10/12\n",
      "185/185 [==============================] - 0s 2ms/step - loss: 0.8986 - accuracy: 0.5808 - val_loss: 0.9938 - val_accuracy: 0.5507\n",
      "Epoch 11/12\n",
      "185/185 [==============================] - 0s 2ms/step - loss: 0.8852 - accuracy: 0.5834 - val_loss: 0.9968 - val_accuracy: 0.5420\n",
      "Epoch 12/12\n",
      "185/185 [==============================] - 0s 2ms/step - loss: 0.8770 - accuracy: 0.5994 - val_loss: 1.0054 - val_accuracy: 0.5362\n"
     ]
    },
    {
     "data": {
      "text/plain": [
       "<keras.callbacks.History at 0x2a20b190090>"
      ]
     },
     "execution_count": 14,
     "metadata": {},
     "output_type": "execute_result"
    }
   ],
   "source": [
    "import tensorflow as tf \n",
    "from tensorflow.keras import layers\n",
    "from helper_functions_tensorflow import CSVLoggerCallback\n",
    "import random \n",
    "\n",
    "#set the seed\n",
    "tf.random.set_seed(42)\n",
    "np.random.seed(42)\n",
    "random.seed(12)\n",
    "\n",
    "# creo il modello \n",
    "inputs = layers.Input(shape=(118,))\n",
    "x = layers.Dense(64, activation='relu')(inputs)\n",
    "x = layers.Dropout(0.1)(x)  # Aggiunto il layer di dropout per ridurre overfitting\n",
    "x = layers.Dense(32, activation='relu')(x)\n",
    "outputs = layers.Dense(3, activation='softmax')(x)\n",
    "model_1 = tf.keras.Model(inputs, outputs, name='model_1_dense')\n",
    "\n",
    "# compilo il modello \n",
    "model_1.compile(\n",
    "    loss='sparse_categorical_crossentropy',\n",
    "    metrics = 'accuracy',\n",
    "    optimizer = tf.keras.optimizers.Adam()\n",
    ")\n",
    "\n",
    "# fitto il modello \n",
    "model_1.fit(\n",
    "    x = X_train_norm,\n",
    "    y = Train_labels_encoded,\n",
    "    epochs = 12,\n",
    "    validation_data = (X_valid_norm, Valid_labels_encoded),\n",
    "    callbacks = [\n",
    "        CSVLoggerCallback('results.csv','model_1_dense',overwrite=True), \n",
    "        #create_model_checkpoint(model_name= 'Dense_model_best')\n",
    "                 ] \n",
    ")"
   ]
  },
  {
   "cell_type": "code",
   "execution_count": 16,
   "metadata": {},
   "outputs": [
    {
     "name": "stdout",
     "output_type": "stream",
     "text": [
      "11/11 [==============================] - 0s 2ms/step - loss: 0.9904 - accuracy: 0.5652\n"
     ]
    },
    {
     "data": {
      "text/plain": [
       "[0.9903877377510071, 0.5652173757553101]"
      ]
     },
     "execution_count": 16,
     "metadata": {},
     "output_type": "execute_result"
    }
   ],
   "source": [
    "model_1 = loaded_model = tf.keras.models.load_model(\"model_experiments\\Dense_model_best\")\n",
    "model_1.evaluate(X_valid_norm, Valid_labels_encoded)"
   ]
  }
 ],
 "metadata": {
  "kernelspec": {
   "display_name": "Python 3",
   "language": "python",
   "name": "python3"
  },
  "language_info": {
   "codemirror_mode": {
    "name": "ipython",
    "version": 3
   },
   "file_extension": ".py",
   "mimetype": "text/x-python",
   "name": "python",
   "nbconvert_exporter": "python",
   "pygments_lexer": "ipython3",
   "version": "3.11.3"
  }
 },
 "nbformat": 4,
 "nbformat_minor": 2
}
